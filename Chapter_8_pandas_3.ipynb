{
 "cells": [
  {
   "cell_type": "code",
   "execution_count": 1,
   "id": "1ee35056",
   "metadata": {},
   "outputs": [],
   "source": [
    "import pandas as pd\n",
    "import numpy as np"
   ]
  },
  {
   "cell_type": "code",
   "execution_count": 3,
   "id": "15197682",
   "metadata": {},
   "outputs": [
    {
     "name": "stdout",
     "output_type": "stream",
     "text": [
      "person 1     False\n",
      "person 2      True\n",
      "person 3      True\n",
      "Name: age, dtype: bool\n"
     ]
    }
   ],
   "source": [
    "data = {'name':['ali','hossein','sara'],'age':[22,35,27]}\n",
    "df = pd.DataFrame(data,index=['person 1','person 2 ','person 3'])\n",
    "print(df['age']>25)"
   ]
  },
  {
   "cell_type": "code",
   "execution_count": 5,
   "id": "2cfc45f3",
   "metadata": {},
   "outputs": [
    {
     "name": "stdout",
     "output_type": "stream",
     "text": [
      "      name  age\n",
      "0      ali   22\n",
      "1  hossein   35\n",
      "2     sara   27\n"
     ]
    }
   ],
   "source": [
    "data = {'name':['ali','hossein','sara'],'age':[22,35,27]}\n",
    "df = pd.DataFrame(data)\n",
    "print(df)"
   ]
  },
  {
   "cell_type": "code",
   "execution_count": null,
   "id": "5fa0ae5a",
   "metadata": {},
   "outputs": [],
   "source": [
    "df = pd.read_csv()\n",
    "# read_excel()\n",
    "# read_html()\n",
    "# to_csv('example.csv')\n",
    "df"
   ]
  }
 ],
 "metadata": {
  "kernelspec": {
   "display_name": "Python 3 (ipykernel)",
   "language": "python",
   "name": "python3"
  },
  "language_info": {
   "codemirror_mode": {
    "name": "ipython",
    "version": 3
   },
   "file_extension": ".py",
   "mimetype": "text/x-python",
   "name": "python",
   "nbconvert_exporter": "python",
   "pygments_lexer": "ipython3",
   "version": "3.11.5"
  }
 },
 "nbformat": 4,
 "nbformat_minor": 5
}
