{
 "cells": [
  {
   "cell_type": "code",
   "execution_count": 15,
   "id": "bbd05651",
   "metadata": {},
   "outputs": [],
   "source": [
    "import datetime\n",
    "from datetime import date\n",
    "import pandas as pd"
   ]
  },
  {
   "cell_type": "code",
   "execution_count": 3,
   "id": "910bf301",
   "metadata": {},
   "outputs": [
    {
     "name": "stdout",
     "output_type": "stream",
     "text": [
      "2023-12-30 11:22:13.375240\n"
     ]
    }
   ],
   "source": [
    "now = datetime.datetime.now()\n",
    "print(now)"
   ]
  },
  {
   "cell_type": "code",
   "execution_count": 5,
   "id": "78c1a068",
   "metadata": {},
   "outputs": [
    {
     "name": "stdout",
     "output_type": "stream",
     "text": [
      "Insert Your Age : 25\n",
      "1998\n"
     ]
    }
   ],
   "source": [
    "age = float(input('Insert Your Age : '))\n",
    "born = int(now.year-age)\n",
    "print(born)"
   ]
  },
  {
   "cell_type": "code",
   "execution_count": 10,
   "id": "4f83b57c",
   "metadata": {},
   "outputs": [
    {
     "name": "stdout",
     "output_type": "stream",
     "text": [
      "30\n",
      "12\n",
      "2023\n",
      "5\n"
     ]
    }
   ],
   "source": [
    "today = date.today()\n",
    "print(today.day)\n",
    "print(today.month)\n",
    "print(today.year)\n",
    "print(today.weekday())"
   ]
  },
  {
   "cell_type": "code",
   "execution_count": 14,
   "id": "2b165f64",
   "metadata": {},
   "outputs": [
    {
     "name": "stdout",
     "output_type": "stream",
     "text": [
      "Saturday 12 30,2023\n"
     ]
    }
   ],
   "source": [
    "today = date.today()\n",
    "print(today.strftime('%A %m %d,%Y'))"
   ]
  },
  {
   "cell_type": "code",
   "execution_count": null,
   "id": "9d20f040",
   "metadata": {},
   "outputs": [],
   "source": [
    "#df['Dates'] = pd.to_datetime(df['Dates'])\n",
    "# df = set_index(pd.DatetimeIndex(df['Date'].values))"
   ]
  }
 ],
 "metadata": {
  "kernelspec": {
   "display_name": "Python 3 (ipykernel)",
   "language": "python",
   "name": "python3"
  },
  "language_info": {
   "codemirror_mode": {
    "name": "ipython",
    "version": 3
   },
   "file_extension": ".py",
   "mimetype": "text/x-python",
   "name": "python",
   "nbconvert_exporter": "python",
   "pygments_lexer": "ipython3",
   "version": "3.11.5"
  }
 },
 "nbformat": 4,
 "nbformat_minor": 5
}
