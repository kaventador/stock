{
 "cells": [
  {
   "cell_type": "code",
   "execution_count": 31,
   "id": "d92cb376",
   "metadata": {},
   "outputs": [],
   "source": [
    "import numpy as np"
   ]
  },
  {
   "cell_type": "code",
   "execution_count": 32,
   "id": "b94dc400",
   "metadata": {},
   "outputs": [
    {
     "name": "stdout",
     "output_type": "stream",
     "text": [
      "[ 8 13 12 11 21]\n",
      "[-6 -3  0  5 -3]\n",
      "[  7  40  36  24 108]\n",
      "[0.14285714 0.625      1.         2.66666667 0.75      ]\n"
     ]
    }
   ],
   "source": [
    "a = np.array([1,5,6,8,9])\n",
    "b = np.array([7,8,6,3,12])\n",
    "print(a+b)\n",
    "print(a-b)\n",
    "print(a*b)\n",
    "print(a/b)"
   ]
  },
  {
   "cell_type": "code",
   "execution_count": 33,
   "id": "f445f4fb",
   "metadata": {},
   "outputs": [
    {
     "name": "stdout",
     "output_type": "stream",
     "text": [
      "215\n"
     ]
    }
   ],
   "source": [
    "print(a.dot(b))"
   ]
  },
  {
   "cell_type": "code",
   "execution_count": 34,
   "id": "09f792b9",
   "metadata": {},
   "outputs": [
    {
     "name": "stdout",
     "output_type": "stream",
     "text": [
      "[1.         5.         4.         2.82842712 3.        ]\n"
     ]
    }
   ],
   "source": [
    "a = np.array([1,25,16,8,9])\n",
    "c = np.sqrt(a)\n",
    "print(c)"
   ]
  },
  {
   "cell_type": "code",
   "execution_count": 35,
   "id": "d7b92b4d",
   "metadata": {},
   "outputs": [
    {
     "name": "stdout",
     "output_type": "stream",
     "text": [
      "[ 6  8  9 10 15]\n"
     ]
    }
   ],
   "source": [
    "a = np.array([10,15,6,8,9])\n",
    "print(np.sort(a,axis=0))"
   ]
  },
  {
   "cell_type": "code",
   "execution_count": 36,
   "id": "ea49e29b",
   "metadata": {},
   "outputs": [
    {
     "name": "stdout",
     "output_type": "stream",
     "text": [
      "[[ 1  5  6  8  9]\n",
      " [ 5  4  6 13 78]\n",
      " [ 7  8  6  3 12]\n",
      " [56 96 44 12 35]]\n",
      "\n",
      "[[ 1  5  6  8  9  7  8  6  3 12]\n",
      " [ 5  4  6 13 78 56 96 44 12 35]]\n",
      "\n",
      "[[ 1  5  6  8  9  7  8  6  3 12]\n",
      " [ 5  4  6 13 78 56 96 44 12 35]]\n"
     ]
    }
   ],
   "source": [
    "a = np.array([[1,5,6,8,9],[5,4,6,13,78]])\n",
    "b = np.array([[7,8,6,3,12],[56,96,44,12,35]])\n",
    "v = np.vstack((a,b))\n",
    "h = np.hstack((a,b))\n",
    "print(v)\n",
    "print()\n",
    "print(h)\n",
    "print()\n",
    "c = np.concatenate((a,b),1)\n",
    "print(c)"
   ]
  },
  {
   "cell_type": "code",
   "execution_count": 37,
   "id": "f5a0a5bf",
   "metadata": {},
   "outputs": [
    {
     "name": "stdout",
     "output_type": "stream",
     "text": [
      "1\n",
      "2\n",
      "3\n",
      "4\n"
     ]
    }
   ],
   "source": [
    "arr = np.array([1,2,3,4])\n",
    "for x in arr:\n",
    "    print(x)"
   ]
  },
  {
   "cell_type": "code",
   "execution_count": 39,
   "id": "c1f840c3",
   "metadata": {},
   "outputs": [
    {
     "name": "stdout",
     "output_type": "stream",
     "text": [
      "1\n",
      "2\n",
      "3\n",
      "4\n",
      "5\n",
      "6\n",
      "7\n",
      "8\n"
     ]
    }
   ],
   "source": [
    "arr = np.array([[1,2,3,4],[5,6,7,8]])\n",
    "for x in arr:\n",
    "    for y in x:\n",
    "        print(y)"
   ]
  },
  {
   "cell_type": "code",
   "execution_count": null,
   "id": "b0c0bae7",
   "metadata": {},
   "outputs": [],
   "source": []
  }
 ],
 "metadata": {
  "kernelspec": {
   "display_name": "Python 3 (ipykernel)",
   "language": "python",
   "name": "python3"
  },
  "language_info": {
   "codemirror_mode": {
    "name": "ipython",
    "version": 3
   },
   "file_extension": ".py",
   "mimetype": "text/x-python",
   "name": "python",
   "nbconvert_exporter": "python",
   "pygments_lexer": "ipython3",
   "version": "3.11.5"
  }
 },
 "nbformat": 4,
 "nbformat_minor": 5
}
