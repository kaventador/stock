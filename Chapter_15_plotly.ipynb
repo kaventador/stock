{
 "cells": [
  {
   "cell_type": "code",
   "execution_count": 1,
   "id": "3e0ce312",
   "metadata": {},
   "outputs": [],
   "source": [
    "import plotly.graph_objects as go"
   ]
  },
  {
   "cell_type": "code",
   "execution_count": 2,
   "id": "b8a88765",
   "metadata": {},
   "outputs": [
    {
     "ename": "SyntaxError",
     "evalue": "invalid syntax (672410667.py, line 7)",
     "output_type": "error",
     "traceback": [
      "\u001b[1;36m  Cell \u001b[1;32mIn[2], line 7\u001b[1;36m\u001b[0m\n\u001b[1;33m    high =  ,\u001b[0m\n\u001b[1;37m            ^\u001b[0m\n\u001b[1;31mSyntaxError\u001b[0m\u001b[1;31m:\u001b[0m invalid syntax\n"
     ]
    }
   ],
   "source": [
    "# go.candlestick()\n",
    "# fig = go.Figure(data= ,layout)\n",
    "# fig.update_layout\n",
    "mydata=[]\n",
    "mydata.append(go.candlestick(x=df['date'].values,\n",
    "                          low=df['low'],\n",
    "                          high =  ,\n",
    "                          close = ,\n",
    "                          open = ,\n",
    "                          increasing_line_color = 'g',\n",
    "                          decreasing_line_color = 'r' \n",
    "                          ))\n",
    "fig = go.Figure(data= mydata)\n",
    "fig.update_layout = (\n",
    "title = 'hello',\n",
    "xaxis_title = '',\n",
    "yaxis_title = '',\n",
    "gridwidth=1,    \n",
    "gridcolor='lightblue',\n",
    "plot_bgcolor='white'    \n",
    ")"
   ]
  }
 ],
 "metadata": {
  "kernelspec": {
   "display_name": "Python 3 (ipykernel)",
   "language": "python",
   "name": "python3"
  },
  "language_info": {
   "codemirror_mode": {
    "name": "ipython",
    "version": 3
   },
   "file_extension": ".py",
   "mimetype": "text/x-python",
   "name": "python",
   "nbconvert_exporter": "python",
   "pygments_lexer": "ipython3",
   "version": "3.11.5"
  }
 },
 "nbformat": 4,
 "nbformat_minor": 5
}
