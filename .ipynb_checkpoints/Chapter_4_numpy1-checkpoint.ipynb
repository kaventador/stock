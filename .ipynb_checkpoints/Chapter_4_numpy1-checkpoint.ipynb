{
 "cells": [
  {
   "cell_type": "code",
   "execution_count": 34,
   "id": "df046d4d",
   "metadata": {},
   "outputs": [],
   "source": [
    "import numpy as np \n",
    "from numpy import pi"
   ]
  },
  {
   "cell_type": "code",
   "execution_count": 5,
   "id": "309e30bd",
   "metadata": {},
   "outputs": [
    {
     "name": "stdout",
     "output_type": "stream",
     "text": [
      "[ 1  2  5  8  4  6  3  9 11]\n"
     ]
    }
   ],
   "source": [
    "a = np.array([1,2,5,8,4,6,3,9,11])\n",
    "print(a)"
   ]
  },
  {
   "cell_type": "code",
   "execution_count": 6,
   "id": "f553b899",
   "metadata": {},
   "outputs": [
    {
     "data": {
      "text/plain": [
       "numpy.ndarray"
      ]
     },
     "execution_count": 6,
     "metadata": {},
     "output_type": "execute_result"
    }
   ],
   "source": [
    "type(a)"
   ]
  },
  {
   "cell_type": "code",
   "execution_count": 7,
   "id": "44fc5aeb",
   "metadata": {},
   "outputs": [
    {
     "data": {
      "text/plain": [
       "4"
      ]
     },
     "execution_count": 7,
     "metadata": {},
     "output_type": "execute_result"
    }
   ],
   "source": [
    "a.ndim\n",
    "a.shape\n",
    "a.size\n",
    "a.dtype.name\n",
    "a.itemsize\n"
   ]
  },
  {
   "cell_type": "code",
   "execution_count": 8,
   "id": "aced03dd",
   "metadata": {},
   "outputs": [
    {
     "name": "stdout",
     "output_type": "stream",
     "text": [
      "[2. 4. 6.]\n"
     ]
    }
   ],
   "source": [
    "a = np.array([1.,2.,3.])\n",
    "b = 2.0\n",
    "c = [2.,2.,2.]\n",
    "print(a*c)"
   ]
  },
  {
   "cell_type": "code",
   "execution_count": 9,
   "id": "1f7e79a6",
   "metadata": {},
   "outputs": [
    {
     "data": {
      "text/plain": [
       "3"
      ]
     },
     "execution_count": 9,
     "metadata": {},
     "output_type": "execute_result"
    }
   ],
   "source": [
    "a = np.array([1,2,3])\n",
    "b = np.array([[1,2,3],[4,5,6]])\n",
    "c = np.array([[[1,2,3],\n",
    "               [4,5,6]],\n",
    "               [[7,8,9],\n",
    "               [10,11,12]]])\n",
    "c.ndim"
   ]
  },
  {
   "cell_type": "code",
   "execution_count": 10,
   "id": "b980b5f8",
   "metadata": {},
   "outputs": [
    {
     "data": {
      "text/plain": [
       "array([[[0, 1, 2]],\n",
       "\n",
       "       [[3, 4, 5]],\n",
       "\n",
       "       [[6, 7, 8]]])"
      ]
     },
     "execution_count": 10,
     "metadata": {},
     "output_type": "execute_result"
    }
   ],
   "source": [
    "a = np.arange(9).reshape(3,1,3)\n",
    "a"
   ]
  },
  {
   "cell_type": "code",
   "execution_count": 11,
   "id": "2fe4d5fc",
   "metadata": {},
   "outputs": [
    {
     "data": {
      "text/plain": [
       "array([ 0,  0,  7,  0,  0,  0,  9, 11, 25, 16])"
      ]
     },
     "execution_count": 11,
     "metadata": {},
     "output_type": "execute_result"
    }
   ],
   "source": [
    "d = np.array([2,6,7,4,3,5,9,11,25,16])\n",
    "np.where(d>6,d,0)"
   ]
  },
  {
   "cell_type": "code",
   "execution_count": 12,
   "id": "e6b887f1",
   "metadata": {
    "scrolled": true
   },
   "outputs": [
    {
     "data": {
      "text/plain": [
       "array([ 5,  8, 11, 14, 17, 20, 23])"
      ]
     },
     "execution_count": 12,
     "metadata": {},
     "output_type": "execute_result"
    }
   ],
   "source": [
    "b = np.arange(5,25,3)\n",
    "b"
   ]
  },
  {
   "cell_type": "code",
   "execution_count": 16,
   "id": "ef0401a1",
   "metadata": {},
   "outputs": [
    {
     "data": {
      "text/plain": [
       "array([10.        , 10.6779661 , 11.3559322 , 12.03389831, 12.71186441,\n",
       "       13.38983051, 14.06779661, 14.74576271, 15.42372881, 16.10169492,\n",
       "       16.77966102, 17.45762712, 18.13559322, 18.81355932, 19.49152542,\n",
       "       20.16949153, 20.84745763, 21.52542373, 22.20338983, 22.88135593,\n",
       "       23.55932203, 24.23728814, 24.91525424, 25.59322034, 26.27118644,\n",
       "       26.94915254, 27.62711864, 28.30508475, 28.98305085, 29.66101695,\n",
       "       30.33898305, 31.01694915, 31.69491525, 32.37288136, 33.05084746,\n",
       "       33.72881356, 34.40677966, 35.08474576, 35.76271186, 36.44067797,\n",
       "       37.11864407, 37.79661017, 38.47457627, 39.15254237, 39.83050847,\n",
       "       40.50847458, 41.18644068, 41.86440678, 42.54237288, 43.22033898,\n",
       "       43.89830508, 44.57627119, 45.25423729, 45.93220339, 46.61016949,\n",
       "       47.28813559, 47.96610169, 48.6440678 , 49.3220339 , 50.        ])"
      ]
     },
     "execution_count": 16,
     "metadata": {},
     "output_type": "execute_result"
    }
   ],
   "source": [
    "s = np.linspace(10,50,60)\n",
    "s"
   ]
  },
  {
   "cell_type": "code",
   "execution_count": 19,
   "id": "364b41b6",
   "metadata": {},
   "outputs": [
    {
     "data": {
      "text/plain": [
       "1.2246467991473532e-16"
      ]
     },
     "execution_count": 19,
     "metadata": {},
     "output_type": "execute_result"
    }
   ],
   "source": [
    "mysin = np.sin(pi)\n",
    "mysin"
   ]
  },
  {
   "cell_type": "code",
   "execution_count": 22,
   "id": "a0015529",
   "metadata": {},
   "outputs": [
    {
     "data": {
      "text/plain": [
       "array([0.00000000e+00, 1.64594590e-01, 3.24699469e-01, 4.75947393e-01,\n",
       "       6.14212713e-01, 7.35723911e-01, 8.37166478e-01, 9.15773327e-01,\n",
       "       9.69400266e-01, 9.96584493e-01, 9.96584493e-01, 9.69400266e-01,\n",
       "       9.15773327e-01, 8.37166478e-01, 7.35723911e-01, 6.14212713e-01,\n",
       "       4.75947393e-01, 3.24699469e-01, 1.64594590e-01, 1.22464680e-16])"
      ]
     },
     "execution_count": 22,
     "metadata": {},
     "output_type": "execute_result"
    }
   ],
   "source": [
    "w = np.linspace(0,pi,20)\n",
    "np.sin(w)"
   ]
  },
  {
   "cell_type": "code",
   "execution_count": 31,
   "id": "0345f0d4",
   "metadata": {},
   "outputs": [
    {
     "data": {
      "text/plain": [
       "array([ 100.        ,  114.01896007,  128.95719621,  144.81470842,\n",
       "        161.5914967 ,  179.28756105,  197.90290147,  217.43751795,\n",
       "        237.89141051,  259.26457914,  281.55702384,  304.76874461,\n",
       "        328.89974145,  353.95001436,  379.91956334,  406.80838839,\n",
       "        434.61648951,  463.3438667 ,  492.99051997,  523.5564493 ,\n",
       "        555.0416547 ,  587.44613617,  620.76989371,  655.01292732,\n",
       "        690.175237  ,  726.25682275,  763.25768457,  801.17782246,\n",
       "        840.01723643,  879.77592646,  920.45389256,  962.05113473,\n",
       "       1004.56765297, 1048.00344729, 1092.35851767, 1137.63286412,\n",
       "       1183.82648664, 1230.93938523, 1278.9715599 , 1327.92301063,\n",
       "       1377.79373743, 1428.5837403 , 1480.29301925, 1532.92157426,\n",
       "       1586.46940534, 1640.9365125 , 1696.32289572, 1752.62855501,\n",
       "       1809.85349038, 1867.99770181, 1927.06118931, 1987.04395289,\n",
       "       2047.94599253, 2109.76730824, 2172.50790003, 2236.16776788,\n",
       "       2300.74691181, 2366.2453318 , 2432.66302787, 2500.        ])"
      ]
     },
     "execution_count": 31,
     "metadata": {},
     "output_type": "execute_result"
    }
   ],
   "source": [
    "s = np.linspace(10,50,60)\n",
    "s**2"
   ]
  },
  {
   "cell_type": "code",
   "execution_count": 40,
   "id": "b824c7bf",
   "metadata": {},
   "outputs": [
    {
     "data": {
      "text/plain": [
       "array([1, 2, 3, 4, 5, 6])"
      ]
     },
     "execution_count": 40,
     "metadata": {},
     "output_type": "execute_result"
    }
   ],
   "source": [
    "a = np.array([[1,2,3],[4,5,6]])\n",
    "a.flatten()"
   ]
  },
  {
   "cell_type": "code",
   "execution_count": 44,
   "id": "3b9a1f5e",
   "metadata": {},
   "outputs": [
    {
     "name": "stdout",
     "output_type": "stream",
     "text": [
      "1\n",
      "12\n",
      "60\n"
     ]
    }
   ],
   "source": [
    "arr = np.array([[1,8,12],[7,6,2],[8,5,11]])\n",
    "print(arr.min())\n",
    "print(arr.max())\n",
    "print(arr.sum())"
   ]
  }
 ],
 "metadata": {
  "kernelspec": {
   "display_name": "Python 3 (ipykernel)",
   "language": "python",
   "name": "python3"
  },
  "language_info": {
   "codemirror_mode": {
    "name": "ipython",
    "version": 3
   },
   "file_extension": ".py",
   "mimetype": "text/x-python",
   "name": "python",
   "nbconvert_exporter": "python",
   "pygments_lexer": "ipython3",
   "version": "3.11.5"
  }
 },
 "nbformat": 4,
 "nbformat_minor": 5
}
