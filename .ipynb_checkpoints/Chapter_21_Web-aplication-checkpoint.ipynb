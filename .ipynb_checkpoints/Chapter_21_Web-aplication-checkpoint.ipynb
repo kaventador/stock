{
 "cells": [
  {
   "cell_type": "code",
   "execution_count": 3,
   "id": "19659e98",
   "metadata": {},
   "outputs": [],
   "source": [
    "import streamlit as st\n",
    "import pandas as pd\n",
    "from PIL import Image"
   ]
  },
  {
   "cell_type": "code",
   "execution_count": 5,
   "id": "c1fbbb07",
   "metadata": {},
   "outputs": [
    {
     "data": {
      "text/plain": [
       "DeltaGenerator(_root_container=1, _parent=DeltaGenerator())"
      ]
     },
     "execution_count": 5,
     "metadata": {},
     "output_type": "execute_result"
    }
   ],
   "source": [
    "st.write('''\n",
    "# Visualising Stock Data\n",
    "**Kite**\n",
    "''')\n",
    "img = Image.open('C:/Users/moham/OneDrive/دسکتاپ/python-stock/1.jpg')\n",
    "st.image(img,width=600,caption='KITE')\n",
    "st.sidebar.header('Input Data')"
   ]
  },
  {
   "cell_type": "code",
   "execution_count": 6,
   "id": "be9ed1f1",
   "metadata": {},
   "outputs": [],
   "source": [
    "def get_input():\n",
    "    numb = st.sidebar.text_input('N Last Days',50)\n",
    "    stock_symbol = st.sidebar.text_input('Insert Stock Symbol','FOOLAD')\n",
    "    return stock_symbol , numb"
   ]
  },
  {
   "cell_type": "code",
   "execution_count": 7,
   "id": "43f18b4f",
   "metadata": {},
   "outputs": [],
   "source": [
    "def get_company_name(symbol):\n",
    "    if symbol=='FOOLAD':\n",
    "        return 'FOOLAD'\n",
    "    elif symbol=='KHODRO':\n",
    "        return 'KHODRO'\n",
    "    elif symbol=='AMZN':\n",
    "        return 'AMAZON'\n",
    "    elif symbol == 'TSLA':\n",
    "        return 'TESLA'\n",
    "    else:\n",
    "        return 'NONE'"
   ]
  },
  {
   "cell_type": "code",
   "execution_count": 10,
   "id": "e98992cb",
   "metadata": {},
   "outputs": [],
   "source": [
    "def get_data(symbol,n):\n",
    "    if symbol.upper()=='FOOLAD':\n",
    "        df = pd.read_csv('C:/Users/moham/OneDrive/دسکتاپ/python-stock/foolad.csv')\n",
    "    elif symbol.upper()=='KHODRO':\n",
    "        df = pd.read_csv('C:/Users/moham/OneDrive/دسکتاپ/python-stock/khodro.csv')\n",
    "    elif symbol.upper()=='AMZN':\n",
    "        df = pd.read_csv('C:/Users/moham/OneDrive/دسکتاپ/python-stock/AMZN.csv')\n",
    "    elif symbol.upper()=='TSLA':\n",
    "        df = pd.read_csv('C:/Users/moham/OneDrive/دسکتاپ/python-stock/tsla.csv')\n",
    "    else:\n",
    "        df=pd.DataFrame(columns=['Date','First','High','Low','Close','Value','Volume','Openint','Per','Open','Last'])\n",
    "        \n",
    "    df = df.set_index(pd.DatetimeIndex(df['Date'].values))\n",
    "    n = int(n)\n",
    "    df = df.head(n)\n",
    "    return df"
   ]
  },
  {
   "cell_type": "code",
   "execution_count": 11,
   "id": "14e5593f",
   "metadata": {},
   "outputs": [
    {
     "name": "stderr",
     "output_type": "stream",
     "text": [
      "O:\\anaconda\\Lib\\site-packages\\altair\\utils\\core.py:230: UserWarning: I don't know how to infer vegalite type from 'empty'.  Defaulting to nominal.\n",
      "  warnings.warn(\n",
      "O:\\anaconda\\Lib\\site-packages\\altair\\utils\\core.py:230: UserWarning: I don't know how to infer vegalite type from 'empty'.  Defaulting to nominal.\n",
      "  warnings.warn(\n"
     ]
    }
   ],
   "source": [
    "symbol , n = get_input()\n",
    "df = get_data(symbol,n)\n",
    "company = get_company_name(symbol.upper())\n",
    "st.header(company + ' Close Price\\n')\n",
    "st.line_chart(df['Close'])\n",
    "st.header(company + ' Volume\\n')\n",
    "st.line_chart(df['Volume'])\n",
    "st.header('stock Datas')\n",
    "st.write()"
   ]
  }
 ],
 "metadata": {
  "kernelspec": {
   "display_name": "Python 3 (ipykernel)",
   "language": "python",
   "name": "python3"
  },
  "language_info": {
   "codemirror_mode": {
    "name": "ipython",
    "version": 3
   },
   "file_extension": ".py",
   "mimetype": "text/x-python",
   "name": "python",
   "nbconvert_exporter": "python",
   "pygments_lexer": "ipython3",
   "version": "3.11.5"
  }
 },
 "nbformat": 4,
 "nbformat_minor": 5
}
