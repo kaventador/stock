{
 "cells": [
  {
   "cell_type": "code",
   "execution_count": 9,
   "id": "3e5b65be",
   "metadata": {},
   "outputs": [],
   "source": [
    "import numpy as np\n",
    "import pandas as pd\n",
    "from sklearn.linear_model import LinearRegression\n",
    "from sklearn.svm import SVR\n",
    "from sklearn.model_selection import train_test_split\n",
    "import streamlit as st\n",
    "from PIL import Image"
   ]
  },
  {
   "cell_type": "code",
   "execution_count": 10,
   "id": "b16986fa",
   "metadata": {},
   "outputs": [
    {
     "data": {
      "text/plain": [
       "DeltaGenerator()"
      ]
     },
     "execution_count": 10,
     "metadata": {},
     "output_type": "execute_result"
    }
   ],
   "source": [
    "st.write('''\n",
    "# Stock VIS\n",
    "\n",
    "**KITE**\n",
    "\n",
    "''')\n",
    "img = Image.open('C:/Users/moham/OneDrive/دسکتاپ/python-stock/1.jpg')\n",
    "st.image(img,width=600)"
   ]
  },
  {
   "cell_type": "code",
   "execution_count": 11,
   "id": "8d35ca33",
   "metadata": {},
   "outputs": [],
   "source": [
    "st.sidebar.header('INSERT DATA')\n",
    "def data():\n",
    "    n = st.sidebar.text_input('How many dayes you wanna predict?' , 5)\n",
    "    symbol = st.sidebar.selectbox('Select The Symbol : ',['FOOLAD','AMZN','KHODRO','TSLA'])\n",
    "    return n , symbol"
   ]
  },
  {
   "cell_type": "code",
   "execution_count": 12,
   "id": "44061c8a",
   "metadata": {},
   "outputs": [],
   "source": [
    "def get_data():\n",
    "    if symbol == 'FOOLAD':\n",
    "        df = pd.read_csv('C:/Users/moham/OneDrive/دسکتاپ/python-stock/foolad.csv')\n",
    "    elif symbol == 'KHODEO':\n",
    "        df = pd.read_csv('C:/Users/moham/OneDrive/دسکتاپ/python-stock/khodro.csv')\n",
    "    elif symbol == 'AMZN':\n",
    "        df = pd.read_csv('C:/Users/moham/OneDrive/دسکتاپ/python-stock/AMZN.csv')\n",
    "    elif symbol == 'TSLA':\n",
    "        df = pd.read_csv('C:/Users/moham/OneDrive/دسکتاپ/python-stock/tsla.csv')\n",
    "        \n",
    "    df = df.set_index(pd.DatetimeIndex(df['Date'].values))\n",
    "    return df"
   ]
  },
  {
   "cell_type": "code",
   "execution_count": 13,
   "id": "a4ec6a9d",
   "metadata": {},
   "outputs": [],
   "source": [
    "def get_company_name(symbol):\n",
    "    if symbol=='FOOLAD':\n",
    "        return 'FOOLAD'\n",
    "    elif symbol=='KHODRO':\n",
    "        return 'KHODRO'\n",
    "    elif symbol=='AMZN':\n",
    "        return 'AMAZON'\n",
    "    elif symbol == 'TSLA':\n",
    "        return 'TESLA'\n",
    "    else:\n",
    "        return 'NONE'"
   ]
  },
  {
   "cell_type": "code",
   "execution_count": 14,
   "id": "8f24e5aa",
   "metadata": {},
   "outputs": [],
   "source": [
    "n , symbol = data()\n",
    "df = get_data()\n",
    "company = get_company_name(symbol)\n",
    "st.header(company + 'Close Price')\n",
    "st.line_chart(df['Close'])\n",
    "st.header(company + 'Volume\\n')\n",
    "st.line_chart(df['Volume'])\n",
    "st.header('Stock Datas')\n",
    "st.write(df.describe())"
   ]
  },
  {
   "cell_type": "code",
   "execution_count": 18,
   "id": "f988932e",
   "metadata": {},
   "outputs": [],
   "source": [
    "df = df[['Close']]\n",
    "forecast = int(n)\n",
    "df['Prediction'] = df[['Close']].shift(-forecast)\n",
    "x = np.array(df.drop(['Prediction'],axis=1))\n",
    "x = x[:-forecast]\n",
    "y = np.array(df['Prediction'])\n",
    "y = y[:-forecast]"
   ]
  },
  {
   "cell_type": "code",
   "execution_count": 19,
   "id": "5f21810b",
   "metadata": {},
   "outputs": [
    {
     "data": {
      "text/plain": [
       "DeltaGenerator()"
      ]
     },
     "execution_count": 19,
     "metadata": {},
     "output_type": "execute_result"
    }
   ],
   "source": [
    "xtrain , xtest , ytrain , ytest = train_test_split(x,y,test_size=0.2)\n",
    "mysvr = SVR(kernel='rbf',C=1000,gamma=0.1)\n",
    "mysvr.fit(xtrain,ytrain)\n",
    "svmconf = mysvr.score(xtest,ytest)\n",
    "st.header('SVM Accuracy')\n",
    "st.success(svmconf)"
   ]
  },
  {
   "cell_type": "code",
   "execution_count": 22,
   "id": "fe6c64e1",
   "metadata": {},
   "outputs": [
    {
     "data": {
      "text/plain": [
       "DeltaGenerator()"
      ]
     },
     "execution_count": 22,
     "metadata": {},
     "output_type": "execute_result"
    }
   ],
   "source": [
    "x_forecast = np.array(df.drop(['Prediction'],axis=1))[-forecast:]\n",
    "svmpred = mysvr.predict(x_forecast)\n",
    "st.header('SVM Prediction')\n",
    "st.success(svmpred)"
   ]
  },
  {
   "cell_type": "code",
   "execution_count": 23,
   "id": "005720f6",
   "metadata": {},
   "outputs": [
    {
     "data": {
      "text/plain": [
       "DeltaGenerator()"
      ]
     },
     "execution_count": 23,
     "metadata": {},
     "output_type": "execute_result"
    }
   ],
   "source": [
    "lr = LinearRegression()\n",
    "lr.fit(xtrain,ytrain)\n",
    "lrconf = lr.score(xtest,ytest)\n",
    "st.header('LR Accuracy')\n",
    "st.success(lrconf)"
   ]
  },
  {
   "cell_type": "code",
   "execution_count": 24,
   "id": "f3b2858f",
   "metadata": {},
   "outputs": [
    {
     "data": {
      "text/plain": [
       "DeltaGenerator()"
      ]
     },
     "execution_count": 24,
     "metadata": {},
     "output_type": "execute_result"
    }
   ],
   "source": [
    "lrpred = lr.predict(x_forecast)\n",
    "st.header('LR Prediction')\n",
    "st.success(lrpred)"
   ]
  }
 ],
 "metadata": {
  "kernelspec": {
   "display_name": "Python 3 (ipykernel)",
   "language": "python",
   "name": "python3"
  },
  "language_info": {
   "codemirror_mode": {
    "name": "ipython",
    "version": 3
   },
   "file_extension": ".py",
   "mimetype": "text/x-python",
   "name": "python",
   "nbconvert_exporter": "python",
   "pygments_lexer": "ipython3",
   "version": "3.11.5"
  }
 },
 "nbformat": 4,
 "nbformat_minor": 5
}
