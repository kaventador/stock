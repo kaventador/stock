{
 "cells": [
  {
   "cell_type": "code",
   "execution_count": 2,
   "id": "687361b5",
   "metadata": {},
   "outputs": [],
   "source": [
    "import pandas as pd\n",
    "import numpy as np"
   ]
  },
  {
   "cell_type": "code",
   "execution_count": 10,
   "id": "b89d3e06",
   "metadata": {},
   "outputs": [
    {
     "name": "stdout",
     "output_type": "stream",
     "text": [
      "one      k\n",
      "two      a\n",
      "three    s\n",
      "four     r\n",
      "five     a\n",
      "dtype: object\n",
      "\n",
      "['k' 'a' 's' 'r' 'a']\n",
      "\n",
      "Index(['one', 'two', 'three', 'four', 'five'], dtype='object')\n"
     ]
    }
   ],
   "source": [
    "data = np.array(['k','a','s','r','a'])\n",
    "se = pd.Series(data,index=['one','two','three','four','five'])\n",
    "print(se)\n",
    "print()\n",
    "print(se.values)\n",
    "print()\n",
    "print(se.index)"
   ]
  },
  {
   "cell_type": "code",
   "execution_count": 11,
   "id": "871c8f48",
   "metadata": {},
   "outputs": [
    {
     "name": "stdout",
     "output_type": "stream",
     "text": [
      "a    2\n",
      "b    4\n",
      "c    6\n",
      "dtype: int64\n"
     ]
    }
   ],
   "source": [
    "dict = {'a':2,'b':4,'c':6}\n",
    "se = pd.Series(dict)\n",
    "print(se)"
   ]
  },
  {
   "cell_type": "code",
   "execution_count": 21,
   "id": "04affd73",
   "metadata": {},
   "outputs": [
    {
     "name": "stdout",
     "output_type": "stream",
     "text": [
      "r\n",
      "one      k\n",
      "two      a\n",
      "three    s\n",
      "dtype: object\n",
      "a\n"
     ]
    }
   ],
   "source": [
    "data = np.array(['k','a','s','r','a'])\n",
    "se = pd.Series(data,index=['one','two','three','four','five'])\n",
    "print(se[3])\n",
    "print(se[:3])\n",
    "print(se['two'])"
   ]
  },
  {
   "cell_type": "code",
   "execution_count": 25,
   "id": "d5c01ef6",
   "metadata": {},
   "outputs": [
    {
     "name": "stdout",
     "output_type": "stream",
     "text": [
      "k\n",
      "a\n",
      "one    k\n",
      "two    a\n",
      "dtype: object\n"
     ]
    }
   ],
   "source": [
    "data = np.array(['k','a','s','r','a'])\n",
    "se = pd.Series(data,index=['one','two','three','four','five'])\n",
    "print(se.loc['one'])\n",
    "print(se.iloc[1])\n",
    "print(se.iloc[:2])"
   ]
  },
  {
   "cell_type": "code",
   "execution_count": 29,
   "id": "e2a02cba",
   "metadata": {},
   "outputs": [
    {
     "data": {
      "text/html": [
       "<div>\n",
       "<style scoped>\n",
       "    .dataframe tbody tr th:only-of-type {\n",
       "        vertical-align: middle;\n",
       "    }\n",
       "\n",
       "    .dataframe tbody tr th {\n",
       "        vertical-align: top;\n",
       "    }\n",
       "\n",
       "    .dataframe thead th {\n",
       "        text-align: right;\n",
       "    }\n",
       "</style>\n",
       "<table border=\"1\" class=\"dataframe\">\n",
       "  <thead>\n",
       "    <tr style=\"text-align: right;\">\n",
       "      <th></th>\n",
       "      <th>0</th>\n",
       "    </tr>\n",
       "  </thead>\n",
       "  <tbody>\n",
       "    <tr>\n",
       "      <th>one</th>\n",
       "      <td>kasra</td>\n",
       "    </tr>\n",
       "    <tr>\n",
       "      <th>two</th>\n",
       "      <td>nikshabani</td>\n",
       "    </tr>\n",
       "    <tr>\n",
       "      <th>three</th>\n",
       "      <td>stock</td>\n",
       "    </tr>\n",
       "    <tr>\n",
       "      <th>four</th>\n",
       "      <td>kite</td>\n",
       "    </tr>\n",
       "  </tbody>\n",
       "</table>\n",
       "</div>"
      ],
      "text/plain": [
       "                0\n",
       "one         kasra\n",
       "two    nikshabani\n",
       "three       stock\n",
       "four         kite"
      ]
     },
     "execution_count": 29,
     "metadata": {},
     "output_type": "execute_result"
    }
   ],
   "source": [
    "mylist = [\"kasra\",\"nikshabani\",\"stock\",\"kite\"]\n",
    "df = pd.DataFrame(mylist,index=['one','two','three','four'])\n",
    "df"
   ]
  }
 ],
 "metadata": {
  "kernelspec": {
   "display_name": "Python 3 (ipykernel)",
   "language": "python",
   "name": "python3"
  },
  "language_info": {
   "codemirror_mode": {
    "name": "ipython",
    "version": 3
   },
   "file_extension": ".py",
   "mimetype": "text/x-python",
   "name": "python",
   "nbconvert_exporter": "python",
   "pygments_lexer": "ipython3",
   "version": "3.11.5"
  }
 },
 "nbformat": 4,
 "nbformat_minor": 5
}
